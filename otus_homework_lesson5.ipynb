{
  "nbformat": 4,
  "nbformat_minor": 0,
  "metadata": {
    "colab": {
      "provenance": [],
      "authorship_tag": "ABX9TyMymE91pDIWGgYpa8gfBVtt",
      "include_colab_link": true
    },
    "kernelspec": {
      "name": "python3",
      "display_name": "Python 3"
    },
    "language_info": {
      "name": "python"
    }
  },
  "cells": [
    {
      "cell_type": "markdown",
      "metadata": {
        "id": "view-in-github",
        "colab_type": "text"
      },
      "source": [
        "<a href=\"https://colab.research.google.com/github/luckovka/Otus_HomeWork_L5_Problem4/blob/master/otus_homework_lesson5.ipynb\" target=\"_parent\"><img src=\"https://colab.research.google.com/assets/colab-badge.svg\" alt=\"Open In Colab\"/></a>"
      ]
    },
    {
      "cell_type": "code",
      "execution_count": 1,
      "metadata": {
        "id": "2zdhBNijctQB"
      },
      "outputs": [],
      "source": [
        "# problem1\n",
        "\n",
        "my_string = input()\n",
        "\n",
        "string_islower = my_string.islower()\n",
        "\n",
        "if '_' in my_string and string_islower == True:\n",
        "  string_issnakecase = 'snake_case'\n",
        "else:\n",
        "  string_issnakecase = \"CamelCase\"\n",
        "\n",
        "\n",
        "def snake_to_camel(my_string):\n",
        "  my_string = my_string.title()\n",
        "  my_string = my_string.replace(\"_\", \"\")\n",
        "  return my_string\n",
        "\n",
        "def insert_spaces(my_string):\n",
        "  result = my_string[0]\n",
        "  for word in my_string[1:]:\n",
        "    if word.isupper():\n",
        "      result += f' {word}'\n",
        "    else:\n",
        "      result += word\n",
        "  my_string = result\n",
        "  return my_string\n",
        "\n",
        "my_string = insert_spaces(my_string)\n",
        "\n",
        "def camel_to_snake(my_string):\n",
        "  insert_spaces(my_string)\n",
        "  my_string = my_string.replace(\" \", \"_\")\n",
        "  my_string = my_string.lower()\n",
        "\n",
        "  return my_string\n",
        "\n",
        "def transform_case(my_string):\n",
        "  if string_issnakecase == \"snake_case\":\n",
        "    print(snake_to_camel(my_string))\n",
        "  else:\n",
        "    print(camel_to_snake(my_string))\n",
        "\n",
        "transform_case(my_string)"
      ]
    },
    {
      "cell_type": "code",
      "source": [
        "# problem 2\n",
        "\n",
        "from datetime import date\n",
        "\n",
        "day = input().replace('.', \" \").split()\n",
        "\n",
        "day.reverse()\n",
        "\n",
        "day = '-'.join(day)\n",
        "\n",
        "\n",
        "def checking(day):\n",
        "  try:\n",
        "    if date.fromisoformat(day):\n",
        "      print('True')\n",
        "  except:\n",
        "    if ValueError:\n",
        "      print('False')\n",
        "\n",
        "checking(day)"
      ],
      "metadata": {
        "id": "xAGwEDx3dBKS"
      },
      "execution_count": null,
      "outputs": []
    },
    {
      "cell_type": "code",
      "source": [
        "# problem 3\n",
        "\n",
        "num = int(input())\n",
        "def isPrime(func):\n",
        "  if num == 0 or num == 1:\n",
        "    print('False')\n",
        "  if num == 2:\n",
        "    print(\"True\")\n",
        "  divider = [2, 3, 4, 5, 6, 7, 8, 9]\n",
        "  isprimelist = []\n",
        "  if num > 2:\n",
        "    for x in divider:\n",
        "      if num != x:\n",
        "        if not num % x == 0 and (num % num == 0 and num % 1 == 0):\n",
        "          isprimelist.append(0)\n",
        "\n",
        "        else:\n",
        "          isprimelist.append(1)\n",
        "\n",
        "\n",
        "\n",
        "  if 1 in isprimelist:\n",
        "    print(\"False\")\n",
        "  else:\n",
        "    print('True')\n",
        "\n",
        "isPrime(num)"
      ],
      "metadata": {
        "id": "p1z4z9cGdDFK"
      },
      "execution_count": 2,
      "outputs": []
    },
    {
      "cell_type": "code",
      "source": [
        "# problem 4"
      ],
      "metadata": {
        "id": "9COpTVSpdGCF"
      },
      "execution_count": null,
      "outputs": []
    }
  ]
}