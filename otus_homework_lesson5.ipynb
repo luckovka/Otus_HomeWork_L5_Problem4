{
  "nbformat": 4,
  "nbformat_minor": 0,
  "metadata": {
    "colab": {
      "provenance": [],
      "authorship_tag": "ABX9TyPIknUvHH2RN7qhtZxMPZ86",
      "include_colab_link": true
    },
    "kernelspec": {
      "name": "python3",
      "display_name": "Python 3"
    },
    "language_info": {
      "name": "python"
    }
  },
  "cells": [
    {
      "cell_type": "markdown",
      "metadata": {
        "id": "view-in-github",
        "colab_type": "text"
      },
      "source": [
        "<a href=\"https://colab.research.google.com/github/luckovka/otus_homeworks/blob/master/otus_homework_lesson5.ipynb\" target=\"_parent\"><img src=\"https://colab.research.google.com/assets/colab-badge.svg\" alt=\"Open In Colab\"/></a>"
      ]
    },
    {
      "cell_type": "code",
      "execution_count": null,
      "metadata": {
        "id": "2zdhBNijctQB",
        "colab": {
          "base_uri": "https://localhost:8080/"
        },
        "outputId": "58c71ad5-83c2-420b-d067-8ab800ba80ad"
      },
      "outputs": [
        {
          "output_type": "stream",
          "name": "stdout",
          "text": [
            "snake_case\n",
            "SnakeCase\n"
          ]
        }
      ],
      "source": [
        "# problem1\n",
        "\n",
        "my_string = input()\n",
        "\n",
        "string_islower = my_string.islower()\n",
        "\n",
        "if '_' in my_string and string_islower == True:\n",
        "  string_issnakecase = 'snake_case'\n",
        "else:\n",
        "  string_issnakecase = \"CamelCase\"\n",
        "\n",
        "\n",
        "def snake_to_camel(my_string):\n",
        "  my_string = my_string.title()\n",
        "  my_string = my_string.replace(\"_\", \"\")\n",
        "  return my_string\n",
        "\n",
        "def insert_spaces(my_string):\n",
        "  result = my_string[0]\n",
        "  for word in my_string[1:]:\n",
        "    if word.isupper():\n",
        "      result += f' {word}'\n",
        "    else:\n",
        "      result += word\n",
        "  my_string = result\n",
        "  return my_string\n",
        "\n",
        "my_string = insert_spaces(my_string)\n",
        "\n",
        "def camel_to_snake(my_string):\n",
        "  insert_spaces(my_string)\n",
        "  my_string = my_string.replace(\" \", \"_\")\n",
        "  my_string = my_string.lower()\n",
        "\n",
        "  return my_string\n",
        "\n",
        "def transform_case(my_string):\n",
        "  if string_issnakecase == \"snake_case\":\n",
        "    print(snake_to_camel(my_string))\n",
        "  else:\n",
        "    print(camel_to_snake(my_string))\n",
        "\n",
        "transform_case(my_string)"
      ]
    },
    {
      "cell_type": "code",
      "source": [
        "# problem 2\n",
        "\n",
        "from datetime import date\n",
        "\n",
        "day = input().replace('.', \" \").split()\n",
        "\n",
        "day.reverse()\n",
        "\n",
        "day = '-'.join(day)\n",
        "\n",
        "\n",
        "def checking(day):\n",
        "  try:\n",
        "    if date.fromisoformat(day):\n",
        "      print('True')\n",
        "  except:\n",
        "    if ValueError:\n",
        "      print('False')\n",
        "\n",
        "checking(day)"
      ],
      "metadata": {
        "id": "xAGwEDx3dBKS"
      },
      "execution_count": null,
      "outputs": []
    },
    {
      "cell_type": "code",
      "source": [
        "# problem 3\n",
        "\n",
        "num = int(input())\n",
        "def isPrime(num):\n",
        "  if num == 0 or num == 1:\n",
        "    print('False')\n",
        "  if num == 2:\n",
        "    print(\"True\")\n",
        "  isprimelist = []\n",
        "  for x in range(2, num):\n",
        "    if num != x:\n",
        "      if not num % x == 0:\n",
        "        isprimelist.append(0)\n",
        "      else:\n",
        "        isprimelist.append(1)\n",
        "\n",
        "\n",
        "\n",
        "  if 1 in isprimelist:\n",
        "    print(num, \"-> False\")\n",
        "  else:\n",
        "    print(num, \"-> True\")\n",
        "\n",
        "isPrime(num)"
      ],
      "metadata": {
        "id": "p1z4z9cGdDFK",
        "colab": {
          "base_uri": "https://localhost:8080/"
        },
        "outputId": "11d4a0e1-37dc-41ae-e29b-13b2b85a025b"
      },
      "execution_count": 3,
      "outputs": [
        {
          "output_type": "stream",
          "name": "stdout",
          "text": [
            "367\n",
            "367 -> True\n"
          ]
        }
      ]
    },
    {
      "cell_type": "code",
      "source": [
        "# problem 4\n",
        "\n",
        "import pandas as pd\n",
        "\n",
        "customers_dict = dict()\n",
        "while customer := input(\"Введите данные пользователя через пробел: \"):\n",
        "    name, last_name, age, id = customer.split()\n",
        "\n",
        "    if len(id) < 8:\n",
        "        id_list = list(id)\n",
        "        while len(id_list) < 8:\n",
        "            id_list.insert(0, \"0\")\n",
        "\n",
        "        id = \"\".join(id_list)\n",
        "\n",
        "    customers_dict[id] = (name, last_name, age)\n",
        "    try:\n",
        "        if int(id):\n",
        "            id = id\n",
        "    except ValueError:\n",
        "        print(\"ID введен некорректно, повторите попытку: \")\n",
        "        customers_dict.popitem()\n",
        "    if not name.istitle():\n",
        "        name = name.capitalize()\n",
        "    if not last_name.istitle():\n",
        "        last_name = last_name.capitalize()\n",
        "\n",
        "    customers_dict[id] = (name, last_name, age)\n",
        "\n",
        "    if int(age) >= 18 and int(age) <= 60:\n",
        "        age = age\n",
        "    else:\n",
        "        print(\"Возраст пользователя должен быть от 18 до 60 лет\")\n",
        "        customers_dict.popitem()\n",
        "    if not name.isalpha() or not last_name.isalpha():\n",
        "        customers_dict.popitem()\n",
        "        print(\"Имя и фамилия пользователя должны содержать только буквы\")\n",
        "\n",
        "\n",
        "\n",
        "keys_list = list(customers_dict.keys())\n",
        "\n",
        "values_list = list(customers_dict.values())\n",
        "columns_name = [\"ИМЯ\", \"ФАМИЛИЯ\", \"ВОЗРАСТ\"]\n",
        "\n",
        "customers_df = pd.DataFrame(values_list, columns=columns_name, index=keys_list)\n",
        "print(customers_df)"
      ],
      "metadata": {
        "id": "9COpTVSpdGCF",
        "colab": {
          "base_uri": "https://localhost:8080/"
        },
        "outputId": "215dcf3d-9687-4bbf-eb41-39309976fb34"
      },
      "execution_count": null,
      "outputs": [
        {
          "output_type": "stream",
          "name": "stdout",
          "text": [
            "Введите данные пользователя через пробел: wqeuyrt bnzx 34 100\n",
            "Введите данные пользователя через пробел: yuewtr bvxc 35 10\n",
            "Введите данные пользователя через пробел: uiryt nmbc 36 1\n",
            "Введите данные пользователя через пробел: \n",
            "              ИМЯ ФАМИЛИЯ ВОЗРАСТ\n",
            "00000001  Wqeuyrt    Bnzx      34\n",
            "00000010   Yuewtr    Bvxc      35\n",
            "00000100    Uiryt    Nmbc      36\n"
          ]
        }
      ]
    },
    {
      "cell_type": "code",
      "source": [],
      "metadata": {
        "id": "FfNQVdUJyW3W"
      },
      "execution_count": null,
      "outputs": []
    }
  ]
}