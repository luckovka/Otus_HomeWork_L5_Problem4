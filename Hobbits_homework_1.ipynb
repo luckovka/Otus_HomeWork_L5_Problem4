{
  "nbformat": 4,
  "nbformat_minor": 0,
  "metadata": {
    "colab": {
      "provenance": [],
      "authorship_tag": "ABX9TyM9fiHSpgelxnE2Rzq3S/dt",
      "include_colab_link": true
    },
    "kernelspec": {
      "name": "python3",
      "display_name": "Python 3"
    },
    "language_info": {
      "name": "python"
    }
  },
  "cells": [
    {
      "cell_type": "markdown",
      "metadata": {
        "id": "view-in-github",
        "colab_type": "text"
      },
      "source": [
        "<a href=\"https://colab.research.google.com/github/luckovka/otus_homeworks/blob/master/Hobbits_homework_1.ipynb\" target=\"_parent\"><img src=\"https://colab.research.google.com/assets/colab-badge.svg\" alt=\"Open In Colab\"/></a>"
      ]
    },
    {
      "cell_type": "code",
      "execution_count": null,
      "metadata": {
        "colab": {
          "base_uri": "https://localhost:8080/"
        },
        "id": "Wmd2DR-jWALb",
        "outputId": "bc38a278-0567-4fc0-ad25-b55dbf60608d"
      },
      "outputs": [
        {
          "output_type": "stream",
          "name": "stdout",
          "text": [
            "(4, 2)\n"
          ]
        }
      ],
      "source": [
        "# problem 1\n",
        "\n",
        "def share_bread(N, K):\n",
        "    x = K // N\n",
        "    y = K % N\n",
        "    return x, y\n",
        "\n",
        "print(share_bread(3, 14))\n",
        "\n",
        "# если в функции всё верно, то после выполнения этой строчки, не должно выскакивать ошибок\n",
        "assert share_bread(N=3, K=14) == (4, 2)"
      ]
    },
    {
      "cell_type": "code",
      "source": [
        "# problem 2\n",
        "\n",
        "def leap_year(year):\n",
        "    if year % 4 == 0 and year % 400 == 0 and not year % 100 == 0:\n",
        "        text_result = 'YOU SHALL PASS'\n",
        "    else:\n",
        "        text_result = 'YOU SHALL NOT PASS'\n",
        "    return text_result\n",
        "\n",
        "print(leap_year(100))\n",
        "\n",
        "assert leap_year(5) == 'YOU SHALL NOT PASS'"
      ],
      "metadata": {
        "colab": {
          "base_uri": "https://localhost:8080/"
        },
        "id": "Dh6Q4t_dZeD-",
        "outputId": "14a6c793-4f71-4bf8-891b-121990bbb5a5"
      },
      "execution_count": null,
      "outputs": [
        {
          "output_type": "stream",
          "name": "stdout",
          "text": [
            "YOU SHALL NOT PASS\n"
          ]
        }
      ]
    },
    {
      "cell_type": "code",
      "source": [
        "# problem 3\n",
        "\n",
        "\n",
        "def amulet_area(a, b, c):\n",
        "    p = (a + b + c) / 2\n",
        "    S = (p * (p - a) * (p - b) * (p - c)) **  0.5\n",
        "    return S\n",
        "\n",
        "\n",
        "assert amulet_area(3, 4, 5) == 6"
      ],
      "metadata": {
        "id": "mo02f3oWb6Jc"
      },
      "execution_count": null,
      "outputs": []
    },
    {
      "cell_type": "code",
      "source": [
        "# problem 4\n",
        "import numpy as np\n",
        "\n",
        "def cal_euclidean(a, b):\n",
        "    distance = (sum((a - b) ** 2)) ** 0.5\n",
        "    return distance\n",
        "\n",
        "def cal_euclidean2(a, b):\n",
        "    distance = np.sqrt(sum(np.square(a-b)))\n",
        "    return distance\n",
        "\n",
        "def cal_manhattan(a, b):\n",
        "    distance = np.linalg.norm(a - b, ord=1)\n",
        "    return distance\n",
        "\n",
        "def cal_manhattan1(a, b):\n",
        "    distance = np.sum(abs(a - b))\n",
        "    return distance\n",
        "\n",
        "def cal_cosine(a, b):\n",
        "    euclidean_norm_a = np.linalg.norm(a)\n",
        "    euclidean_norm_b = np.linalg.norm(b)\n",
        "    distance = np.dot(a,b)/(euclidean_norm_a * euclidean_norm_b)\n",
        "    return distance\n",
        "\n",
        "a = np.random.randint(-10, 10, size=10)\n",
        "b = np.random.randint(-10, 10, size=10)\n",
        "print(cal_euclidean(a, b))\n",
        "print(cal_euclidean2(a, b))\n",
        "print(cal_manhattan(a, b))\n",
        "print(cal_manhattan1(a, b))\n",
        "print(cal_cosine(a, b))"
      ],
      "metadata": {
        "id": "v5HkcPp6od8k",
        "colab": {
          "base_uri": "https://localhost:8080/"
        },
        "outputId": "152b3d58-cf5f-4966-cef5-1bf8877acc6c"
      },
      "execution_count": null,
      "outputs": [
        {
          "output_type": "stream",
          "name": "stdout",
          "text": [
            "11.045361017187261\n",
            "11.045361017187261\n",
            "26.0\n",
            "26\n",
            "0.7936932304552875\n"
          ]
        }
      ]
    },
    {
      "cell_type": "code",
      "source": [
        "# problem 5\n",
        "import numpy as np\n",
        "\n",
        "#a\n",
        "my_array = np.random.rand(100)\n",
        "my_array = (my_array - my_array.min()) / (my_array.max() - my_array.min())\n",
        "print(np.max(my_array), np.min(my_array))\n",
        "print(my_array)\n",
        "\n",
        "\n",
        "#b\n",
        "my_matrix = np.random.randint(1, 50, size=(5, 6))\n",
        "print(my_matrix)\n",
        "max_values = np.max(my_matrix, axis=0)\n",
        "\n",
        "max_in_max = np.max(max_values)\n",
        "max_values = max_values.tolist()\n",
        "\n",
        "for x in max_values:\n",
        "  if x == max_in_max:\n",
        "    index_max = max_values.index(x)\n",
        "\n",
        "print(my_matrix[:, index_max:index_max+1])\n",
        "\n",
        "\n",
        "#c\n",
        "X = np.random.randint(4, 6, size=(10,3))\n",
        "def get_unique_rows(X):\n",
        "    my_list = []\n",
        "    for x in X:\n",
        "        x = list(map(str, x))\n",
        "        x = \",\".join(x)\n",
        "        x = x.replace(\",\", \"\")\n",
        "        my_list.append(x)\n",
        "    my_list = list(map(int, my_list))\n",
        "    my_list = set(my_list)\n",
        "    my_list = list(map(str, my_list))\n",
        "    my_matrix = []\n",
        "    for x in my_list:\n",
        "       x = list(map(int, x))\n",
        "       my_matrix.append(x)\n",
        "\n",
        "    my_matrix = np.array(my_matrix)\n",
        "\n",
        "    return my_matrix\n",
        "\n",
        "get_unique_rows(X)"
      ],
      "metadata": {
        "id": "AzLHifVBiXmR",
        "colab": {
          "base_uri": "https://localhost:8080/"
        },
        "outputId": "43c76a2c-3ab5-4268-834d-65729a9890d3"
      },
      "execution_count": 138,
      "outputs": [
        {
          "output_type": "stream",
          "name": "stdout",
          "text": [
            "1.0 0.0\n",
            "[0.14452104 0.23324185 0.90544435 0.72956432 0.59808236 0.74997338\n",
            " 0.10705307 0.65409961 0.80568677 0.48248929 0.92422238 0.04916774\n",
            " 0.         0.83749971 0.88420633 0.11223828 0.78307647 0.78515991\n",
            " 0.62574193 0.87205775 0.48902153 0.87113489 0.36852996 0.22805233\n",
            " 0.41517362 0.94348286 0.66770809 0.12366471 0.4641751  0.08839013\n",
            " 0.00672463 0.23592295 0.67684785 0.08596177 0.80756909 0.82810822\n",
            " 0.60077222 0.78393953 0.06413539 0.41868847 0.48207845 0.3864609\n",
            " 0.65461223 0.03984114 0.82537885 0.81211157 0.07091251 0.86269852\n",
            " 0.11927085 0.91065746 0.90363885 0.20845961 0.01644334 0.48719259\n",
            " 0.22118718 0.10052758 1.         0.42560554 0.12869911 0.70165668\n",
            " 0.31339101 0.29141673 0.00804417 0.45280381 0.31274432 0.66559759\n",
            " 0.57161859 0.59786928 0.80891644 0.10175658 0.84409838 0.8351233\n",
            " 0.95393123 0.21355298 0.14925942 0.48320914 0.98874566 0.07654421\n",
            " 0.79535377 0.31445995 0.08421719 0.29385453 0.41318164 0.91203335\n",
            " 0.45100447 0.76489129 0.23840806 0.71191309 0.05877835 0.96068998\n",
            " 0.0240146  0.73415313 0.99607005 0.57320489 0.04933619 0.08161434\n",
            " 0.87797718 0.84403081 0.96536948 0.96912548]\n",
            "[[14 48 39 27 43 24]\n",
            " [ 9  6 48  1 26 22]\n",
            " [42  7  1 48 37 15]\n",
            " [43  9 28 12 27 29]\n",
            " [29 29 14 43 17 39]]\n",
            "[[48]\n",
            " [ 6]\n",
            " [ 7]\n",
            " [ 9]\n",
            " [29]]\n"
          ]
        },
        {
          "output_type": "execute_result",
          "data": {
            "text/plain": [
              "array([[5, 4, 5],\n",
              "       [4, 5, 4],\n",
              "       [4, 5, 5],\n",
              "       [5, 5, 4],\n",
              "       [4, 4, 4]])"
            ]
          },
          "metadata": {},
          "execution_count": 138
        }
      ]
    },
    {
      "cell_type": "code",
      "source": [
        "\n",
        "import numpy as np\n",
        "\n",
        "X = np.random.randint(4, 6, size=(10,3))\n",
        "\n",
        "def get_unique_rows(X):\n",
        "    x_list = X.tolist()\n",
        "\n",
        "    # вывожу матрицу, чтобы видеть исходные данные (мне удобнее смотреть в колонку)\n",
        "    for x in x_list:\n",
        "        print(x)\n",
        "\n",
        "    # работает, пока в исходной матрице есть два повторяющихся элемента; как только три -- в конечном результате образуется повтор\n",
        "    for el in x_list:\n",
        "        if el == el:\n",
        "            x_list.remove(el)\n",
        "\n",
        "    # разделитель исходных и конечных данных, чтобы не смешивались\n",
        "    print('_________')\n",
        "\n",
        "    # конечный результат (тоже в колонку)\n",
        "    for x in x_list:\n",
        "        print(x)\n",
        "\n",
        "get_unique_rows(X)"
      ],
      "metadata": {
        "id": "s0N8YeXJBEQr",
        "colab": {
          "base_uri": "https://localhost:8080/"
        },
        "outputId": "7ffb0624-db26-4125-9b54-c92736441c9c"
      },
      "execution_count": 108,
      "outputs": [
        {
          "output_type": "stream",
          "name": "stdout",
          "text": [
            "[4, 5, 4]\n",
            "[4, 4, 5]\n",
            "[5, 4, 4]\n",
            "[5, 4, 5]\n",
            "[4, 4, 5]\n",
            "[5, 5, 5]\n",
            "[4, 5, 4]\n",
            "[4, 5, 5]\n",
            "[5, 5, 4]\n",
            "[5, 5, 4]\n",
            "_________\n",
            "[5, 4, 5]\n",
            "[4, 4, 5]\n",
            "[5, 5, 5]\n",
            "[4, 5, 5]\n",
            "[5, 5, 4]\n"
          ]
        }
      ]
    },
    {
      "cell_type": "code",
      "source": [
        "import numpy as np\n",
        "\n",
        "X = np.random.randint(4, 6, size=(10,3))\n",
        "def get_unique_rows(X):\n",
        "    x_list = X.tolist()\n",
        "    for x in x_list:\n",
        "        print(x)\n",
        "    for el in x_list:\n",
        "        while el == el:\n",
        "            x_list.remove(el)\n",
        "    print('_________')\n",
        "    for x in x_list:\n",
        "        print(x)\n",
        "get_unique_rows(X)"
      ],
      "metadata": {
        "colab": {
          "base_uri": "https://localhost:8080/",
          "height": 471
        },
        "id": "OUwKbt81J5oC",
        "outputId": "77cb52fd-fa5e-425c-c87b-d4d07d4f3e94"
      },
      "execution_count": 136,
      "outputs": [
        {
          "output_type": "stream",
          "name": "stdout",
          "text": [
            "[4, 5, 4]\n",
            "[4, 4, 4]\n",
            "[4, 5, 4]\n",
            "[5, 4, 5]\n",
            "[5, 4, 4]\n",
            "[5, 5, 5]\n",
            "[5, 5, 4]\n",
            "[4, 5, 4]\n",
            "[4, 5, 4]\n",
            "[4, 4, 4]\n"
          ]
        },
        {
          "output_type": "error",
          "ename": "ValueError",
          "evalue": "list.remove(x): x not in list",
          "traceback": [
            "\u001b[0;31m---------------------------------------------------------------------------\u001b[0m",
            "\u001b[0;31mValueError\u001b[0m                                Traceback (most recent call last)",
            "\u001b[0;32m<ipython-input-136-a7cc879ac76e>\u001b[0m in \u001b[0;36m<cell line: 14>\u001b[0;34m()\u001b[0m\n\u001b[1;32m     12\u001b[0m     \u001b[0;32mfor\u001b[0m \u001b[0mx\u001b[0m \u001b[0;32min\u001b[0m \u001b[0mx_list\u001b[0m\u001b[0;34m:\u001b[0m\u001b[0;34m\u001b[0m\u001b[0;34m\u001b[0m\u001b[0m\n\u001b[1;32m     13\u001b[0m         \u001b[0mprint\u001b[0m\u001b[0;34m(\u001b[0m\u001b[0mx\u001b[0m\u001b[0;34m)\u001b[0m\u001b[0;34m\u001b[0m\u001b[0;34m\u001b[0m\u001b[0m\n\u001b[0;32m---> 14\u001b[0;31m \u001b[0mget_unique_rows\u001b[0m\u001b[0;34m(\u001b[0m\u001b[0mX\u001b[0m\u001b[0;34m)\u001b[0m\u001b[0;34m\u001b[0m\u001b[0;34m\u001b[0m\u001b[0m\n\u001b[0m",
            "\u001b[0;32m<ipython-input-136-a7cc879ac76e>\u001b[0m in \u001b[0;36mget_unique_rows\u001b[0;34m(X)\u001b[0m\n\u001b[1;32m      8\u001b[0m     \u001b[0;32mfor\u001b[0m \u001b[0mel\u001b[0m \u001b[0;32min\u001b[0m \u001b[0mx_list\u001b[0m\u001b[0;34m:\u001b[0m\u001b[0;34m\u001b[0m\u001b[0;34m\u001b[0m\u001b[0m\n\u001b[1;32m      9\u001b[0m         \u001b[0;32mwhile\u001b[0m \u001b[0mel\u001b[0m \u001b[0;34m==\u001b[0m \u001b[0mel\u001b[0m\u001b[0;34m:\u001b[0m\u001b[0;34m\u001b[0m\u001b[0;34m\u001b[0m\u001b[0m\n\u001b[0;32m---> 10\u001b[0;31m             \u001b[0mx_list\u001b[0m\u001b[0;34m.\u001b[0m\u001b[0mremove\u001b[0m\u001b[0;34m(\u001b[0m\u001b[0mel\u001b[0m\u001b[0;34m)\u001b[0m\u001b[0;34m\u001b[0m\u001b[0;34m\u001b[0m\u001b[0m\n\u001b[0m\u001b[1;32m     11\u001b[0m     \u001b[0mprint\u001b[0m\u001b[0;34m(\u001b[0m\u001b[0;34m'_________'\u001b[0m\u001b[0;34m)\u001b[0m\u001b[0;34m\u001b[0m\u001b[0;34m\u001b[0m\u001b[0m\n\u001b[1;32m     12\u001b[0m     \u001b[0;32mfor\u001b[0m \u001b[0mx\u001b[0m \u001b[0;32min\u001b[0m \u001b[0mx_list\u001b[0m\u001b[0;34m:\u001b[0m\u001b[0;34m\u001b[0m\u001b[0;34m\u001b[0m\u001b[0m\n",
            "\u001b[0;31mValueError\u001b[0m: list.remove(x): x not in list"
          ]
        }
      ]
    },
    {
      "cell_type": "code",
      "source": [],
      "metadata": {
        "id": "isRxiPkD50h9"
      },
      "execution_count": null,
      "outputs": []
    },
    {
      "cell_type": "code",
      "source": [
        "\n",
        ""
      ],
      "metadata": {
        "id": "MQu_5tIqZCzC"
      },
      "execution_count": null,
      "outputs": []
    }
  ]
}