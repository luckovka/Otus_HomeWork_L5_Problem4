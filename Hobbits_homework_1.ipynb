{
  "nbformat": 4,
  "nbformat_minor": 0,
  "metadata": {
    "colab": {
      "provenance": [],
      "authorship_tag": "ABX9TyMRKZM5+9GDj2BbacAF143h",
      "include_colab_link": true
    },
    "kernelspec": {
      "name": "python3",
      "display_name": "Python 3"
    },
    "language_info": {
      "name": "python"
    }
  },
  "cells": [
    {
      "cell_type": "markdown",
      "metadata": {
        "id": "view-in-github",
        "colab_type": "text"
      },
      "source": [
        "<a href=\"https://colab.research.google.com/github/luckovka/otus_homeworks/blob/master/Hobbits_homework_1.ipynb\" target=\"_parent\"><img src=\"https://colab.research.google.com/assets/colab-badge.svg\" alt=\"Open In Colab\"/></a>"
      ]
    },
    {
      "cell_type": "code",
      "execution_count": null,
      "metadata": {
        "colab": {
          "base_uri": "https://localhost:8080/"
        },
        "id": "Wmd2DR-jWALb",
        "outputId": "bc38a278-0567-4fc0-ad25-b55dbf60608d"
      },
      "outputs": [
        {
          "output_type": "stream",
          "name": "stdout",
          "text": [
            "(4, 2)\n"
          ]
        }
      ],
      "source": [
        "# problem 1\n",
        "\n",
        "def share_bread(N, K):\n",
        "    x = K // N\n",
        "    y = K % N\n",
        "    return x, y\n",
        "\n",
        "print(share_bread(3, 14))\n",
        "\n",
        "# если в функции всё верно, то после выполнения этой строчки, не должно выскакивать ошибок\n",
        "assert share_bread(N=3, K=14) == (4, 2)"
      ]
    },
    {
      "cell_type": "code",
      "source": [
        "# problem 2\n",
        "\n",
        "def leap_year(year):\n",
        "    if year % 4 == 0 and year % 400 == 0 and not year % 100 == 0:\n",
        "        text_result = 'YOU SHALL PASS'\n",
        "    else:\n",
        "        text_result = 'YOU SHALL NOT PASS'\n",
        "    return text_result\n",
        "\n",
        "print(leap_year(100))\n",
        "\n",
        "assert leap_year(5) == 'YOU SHALL NOT PASS'"
      ],
      "metadata": {
        "colab": {
          "base_uri": "https://localhost:8080/"
        },
        "id": "Dh6Q4t_dZeD-",
        "outputId": "14a6c793-4f71-4bf8-891b-121990bbb5a5"
      },
      "execution_count": null,
      "outputs": [
        {
          "output_type": "stream",
          "name": "stdout",
          "text": [
            "YOU SHALL NOT PASS\n"
          ]
        }
      ]
    },
    {
      "cell_type": "code",
      "source": [
        "# problem 3\n",
        "\n",
        "\n",
        "def amulet_area(a, b, c):\n",
        "    p = (a + b + c) / 2\n",
        "    S = (p * (p - a) * (p - b) * (p - c)) **  0.5\n",
        "    return S\n",
        "\n",
        "\n",
        "assert amulet_area(3, 4, 5) == 6"
      ],
      "metadata": {
        "id": "mo02f3oWb6Jc"
      },
      "execution_count": null,
      "outputs": []
    },
    {
      "cell_type": "code",
      "source": [
        "# problem 4\n",
        "import numpy as np\n",
        "\n",
        "def cal_euclidean(a, b):\n",
        "    distance = (sum((a - b) ** 2)) ** 0.5\n",
        "    return distance\n",
        "\n",
        "def cal_euclidean2(a, b):\n",
        "    distance = np.sqrt(sum(np.square(a-b)))\n",
        "    return distance\n",
        "\n",
        "def cal_manhattan(a, b):\n",
        "    distance = np.linalg.norm(a - b, ord=1)\n",
        "    return distance\n",
        "\n",
        "def cal_manhattan1(a, b):\n",
        "    distance = np.sum(abs(a - b))\n",
        "    return distance\n",
        "\n",
        "def cal_cosine(a, b):\n",
        "    euclidean_norm_a = np.linalg.norm(a)\n",
        "    euclidean_norm_b = np.linalg.norm(b)\n",
        "    distance = np.dot(a,b)/(euclidean_norm_a * euclidean_norm_b)\n",
        "    return distance\n",
        "\n",
        "a = np.random.randint(-10, 10, size=10)\n",
        "b = np.random.randint(-10, 10, size=10)\n",
        "print(cal_euclidean(a, b))\n",
        "print(cal_euclidean2(a, b))\n",
        "print(cal_manhattan(a, b))\n",
        "print(cal_manhattan1(a, b))\n",
        "print(cal_cosine(a, b))"
      ],
      "metadata": {
        "id": "v5HkcPp6od8k",
        "colab": {
          "base_uri": "https://localhost:8080/"
        },
        "outputId": "152b3d58-cf5f-4966-cef5-1bf8877acc6c"
      },
      "execution_count": null,
      "outputs": [
        {
          "output_type": "stream",
          "name": "stdout",
          "text": [
            "11.045361017187261\n",
            "11.045361017187261\n",
            "26.0\n",
            "26\n",
            "0.7936932304552875\n"
          ]
        }
      ]
    },
    {
      "cell_type": "code",
      "source": [
        "# problem 5\n",
        "import numpy as np\n",
        "\n",
        "#a\n",
        "my_array = np.random.rand(100)\n",
        "my_array = (my_array - my_array.min()) / (my_array.max() - my_array.min())\n",
        "print(np.max(my_array), np.min(my_array))\n",
        "print(my_array)\n",
        "\n",
        "\n",
        "#b\n",
        "my_matrix = np.random.randint(1, 50, size=(5, 6))\n",
        "print(my_matrix)\n",
        "max_values = np.max(my_matrix, axis=0)\n",
        "\n",
        "max_in_max = np.max(max_values)\n",
        "max_values = max_values.tolist()\n",
        "\n",
        "for x in max_values:\n",
        "  if x == max_in_max:\n",
        "    index_max = max_values.index(x)\n",
        "\n",
        "print(my_matrix[:, index_max:index_max+1])\n",
        "\n",
        "\n",
        "#c\n",
        "X = np.random.randint(4, 6, size=(10,3))\n",
        "def get_unique_rows(X):\n",
        "    my_list = []\n",
        "    for x in X:\n",
        "        x = list(map(str, x))\n",
        "        x = \",\".join(x)\n",
        "        x = x.replace(\",\", \"\")\n",
        "        my_list.append(x)\n",
        "    my_list = list(map(int, my_list))\n",
        "    my_list = set(my_list)\n",
        "    my_list = list(map(str, my_list))\n",
        "    my_matrix = []\n",
        "    for x in my_list:\n",
        "       x = list(map(int, x))\n",
        "       my_matrix.append(x)\n",
        "\n",
        "    my_matrix = np.array(my_matrix)\n",
        "\n",
        "    return my_matrix\n",
        "\n",
        "get_unique_rows(X)"
      ],
      "metadata": {
        "id": "AzLHifVBiXmR",
        "colab": {
          "base_uri": "https://localhost:8080/"
        },
        "outputId": "151e303e-b678-44fb-fa72-dc1e75152197"
      },
      "execution_count": null,
      "outputs": [
        {
          "output_type": "stream",
          "name": "stdout",
          "text": [
            "1.0 0.0\n",
            "[0.74633579 0.2611545  0.02835043 0.17893957 0.29953539 0.78436409\n",
            " 0.74988226 0.27952888 0.80510227 0.05689808 1.         0.35661286\n",
            " 0.38627775 0.2699339  0.43464553 0.23156991 0.10669121 0.33414387\n",
            " 0.00290322 0.8045795  0.65032166 0.01583284 0.8426946  0.8512205\n",
            " 0.85604916 0.27315151 0.44079011 0.12650758 0.69398577 0.53057836\n",
            " 0.92701183 0.37793725 0.25989715 0.05721602 0.09587561 0.46511559\n",
            " 0.8255848  0.23583511 0.57226895 0.1661162  0.58244224 0.90928623\n",
            " 0.78063918 0.08780047 0.42825548 0.58625175 0.02692898 0.92050784\n",
            " 0.93225565 0.49552451 0.87259031 0.83344535 0.1094203  0.06233657\n",
            " 0.07096091 0.76212409 0.50662474 0.38719159 0.58710176 0.03189186\n",
            " 0.40528009 0.45694005 0.54288817 0.17484719 0.7180983  0.33771013\n",
            " 0.8144663  0.18377639 0.10707399 0.76611938 0.31180384 0.66220843\n",
            " 0.14625703 0.97755432 0.57752498 0.50582521 0.13089526 0.41945562\n",
            " 0.59236146 0.42514503 0.51671442 0.88782347 0.02053701 0.30750032\n",
            " 0.58133442 0.26999455 0.1980562  0.31505842 0.31071799 0.16406995\n",
            " 0.18844472 0.53669105 0.02441649 0.82908277 0.83184704 0.51457604\n",
            " 0.33074879 0.         0.83803751 0.0681354 ]\n",
            "[[ 9 46 29 36 24  5]\n",
            " [28 34 40 21 39 13]\n",
            " [26  3 17 29 48 25]\n",
            " [40  9 40 10 41 48]\n",
            " [15  6 41 19 11 14]]\n",
            "[[24]\n",
            " [39]\n",
            " [48]\n",
            " [41]\n",
            " [11]]\n"
          ]
        }
      ]
    },
    {
      "cell_type": "code",
      "source": [
        "\n",
        "import numpy as np\n",
        "\n",
        "X = np.random.randint(4, 6, size=(10,3))\n",
        "\n",
        "def get_unique_rows(X):\n",
        "    x_list = X.tolist()\n",
        "\n",
        "    # вывожу матрицу, чтобы видеть исходные данные (мне удобнее смотреть в колонку)\n",
        "    for x in x_list:\n",
        "        print(x)\n",
        "\n",
        "    # работает, пока есть два повторяющихся элемента; как только три -- в конечном результате образуется повтор\n",
        "    for el in x_list:\n",
        "        if el == el:\n",
        "            x_list.remove(el)\n",
        "\n",
        "    # разделитель исходных и конечных данных, чтобы не смешивались\n",
        "    print('_________')\n",
        "\n",
        "    # конечный результат (тоже в колонку)\n",
        "    for x in x_list:\n",
        "        print(x)\n",
        "\n",
        "get_unique_rows(X)"
      ],
      "metadata": {
        "id": "s0N8YeXJBEQr",
        "colab": {
          "base_uri": "https://localhost:8080/"
        },
        "outputId": "7ffb0624-db26-4125-9b54-c92736441c9c"
      },
      "execution_count": 108,
      "outputs": [
        {
          "output_type": "stream",
          "name": "stdout",
          "text": [
            "[4, 5, 4]\n",
            "[4, 4, 5]\n",
            "[5, 4, 4]\n",
            "[5, 4, 5]\n",
            "[4, 4, 5]\n",
            "[5, 5, 5]\n",
            "[4, 5, 4]\n",
            "[4, 5, 5]\n",
            "[5, 5, 4]\n",
            "[5, 5, 4]\n",
            "_________\n",
            "[5, 4, 5]\n",
            "[4, 4, 5]\n",
            "[5, 5, 5]\n",
            "[4, 5, 5]\n",
            "[5, 5, 4]\n"
          ]
        }
      ]
    },
    {
      "cell_type": "code",
      "source": [
        "import numpy as np\n",
        "\n",
        "X = np.random.randint(4, 6, size=(10,3))\n",
        "def get_unique_rows(X):\n",
        "    x_list = X.tolist()\n",
        "    for x in x_list:\n",
        "        print(x)\n",
        "    for el in x_list:\n",
        "        while el == el:\n",
        "            x_list.remove(el)\n",
        "    print('_________')\n",
        "    for x in x_list:\n",
        "        print(x)\n",
        "get_unique_rows(X)"
      ],
      "metadata": {
        "colab": {
          "base_uri": "https://localhost:8080/",
          "height": 471
        },
        "id": "OUwKbt81J5oC",
        "outputId": "77cb52fd-fa5e-425c-c87b-d4d07d4f3e94"
      },
      "execution_count": 136,
      "outputs": [
        {
          "output_type": "stream",
          "name": "stdout",
          "text": [
            "[4, 5, 4]\n",
            "[4, 4, 4]\n",
            "[4, 5, 4]\n",
            "[5, 4, 5]\n",
            "[5, 4, 4]\n",
            "[5, 5, 5]\n",
            "[5, 5, 4]\n",
            "[4, 5, 4]\n",
            "[4, 5, 4]\n",
            "[4, 4, 4]\n"
          ]
        },
        {
          "output_type": "error",
          "ename": "ValueError",
          "evalue": "list.remove(x): x not in list",
          "traceback": [
            "\u001b[0;31m---------------------------------------------------------------------------\u001b[0m",
            "\u001b[0;31mValueError\u001b[0m                                Traceback (most recent call last)",
            "\u001b[0;32m<ipython-input-136-a7cc879ac76e>\u001b[0m in \u001b[0;36m<cell line: 14>\u001b[0;34m()\u001b[0m\n\u001b[1;32m     12\u001b[0m     \u001b[0;32mfor\u001b[0m \u001b[0mx\u001b[0m \u001b[0;32min\u001b[0m \u001b[0mx_list\u001b[0m\u001b[0;34m:\u001b[0m\u001b[0;34m\u001b[0m\u001b[0;34m\u001b[0m\u001b[0m\n\u001b[1;32m     13\u001b[0m         \u001b[0mprint\u001b[0m\u001b[0;34m(\u001b[0m\u001b[0mx\u001b[0m\u001b[0;34m)\u001b[0m\u001b[0;34m\u001b[0m\u001b[0;34m\u001b[0m\u001b[0m\n\u001b[0;32m---> 14\u001b[0;31m \u001b[0mget_unique_rows\u001b[0m\u001b[0;34m(\u001b[0m\u001b[0mX\u001b[0m\u001b[0;34m)\u001b[0m\u001b[0;34m\u001b[0m\u001b[0;34m\u001b[0m\u001b[0m\n\u001b[0m",
            "\u001b[0;32m<ipython-input-136-a7cc879ac76e>\u001b[0m in \u001b[0;36mget_unique_rows\u001b[0;34m(X)\u001b[0m\n\u001b[1;32m      8\u001b[0m     \u001b[0;32mfor\u001b[0m \u001b[0mel\u001b[0m \u001b[0;32min\u001b[0m \u001b[0mx_list\u001b[0m\u001b[0;34m:\u001b[0m\u001b[0;34m\u001b[0m\u001b[0;34m\u001b[0m\u001b[0m\n\u001b[1;32m      9\u001b[0m         \u001b[0;32mwhile\u001b[0m \u001b[0mel\u001b[0m \u001b[0;34m==\u001b[0m \u001b[0mel\u001b[0m\u001b[0;34m:\u001b[0m\u001b[0;34m\u001b[0m\u001b[0;34m\u001b[0m\u001b[0m\n\u001b[0;32m---> 10\u001b[0;31m             \u001b[0mx_list\u001b[0m\u001b[0;34m.\u001b[0m\u001b[0mremove\u001b[0m\u001b[0;34m(\u001b[0m\u001b[0mel\u001b[0m\u001b[0;34m)\u001b[0m\u001b[0;34m\u001b[0m\u001b[0;34m\u001b[0m\u001b[0m\n\u001b[0m\u001b[1;32m     11\u001b[0m     \u001b[0mprint\u001b[0m\u001b[0;34m(\u001b[0m\u001b[0;34m'_________'\u001b[0m\u001b[0;34m)\u001b[0m\u001b[0;34m\u001b[0m\u001b[0;34m\u001b[0m\u001b[0m\n\u001b[1;32m     12\u001b[0m     \u001b[0;32mfor\u001b[0m \u001b[0mx\u001b[0m \u001b[0;32min\u001b[0m \u001b[0mx_list\u001b[0m\u001b[0;34m:\u001b[0m\u001b[0;34m\u001b[0m\u001b[0;34m\u001b[0m\u001b[0m\n",
            "\u001b[0;31mValueError\u001b[0m: list.remove(x): x not in list"
          ]
        }
      ]
    },
    {
      "cell_type": "code",
      "source": [
        "import numpy as np\n",
        "\n",
        "X = np.random.randint(4, 6, size=(10,3))\n",
        "def get_unique_rows(X):\n",
        "    my_list = []\n",
        "    for x in X:\n",
        "        x = list(map(str, x))\n",
        "        x = \",\".join(x)\n",
        "        x = x.replace(\",\", \"\")\n",
        "        my_list.append(x)\n",
        "    my_list = list(map(int, my_list))\n",
        "    my_list = set(my_list)\n",
        "    my_list = list(map(str, my_list))\n",
        "    my_matrix = []\n",
        "    for x in my_list:\n",
        "       x = list(map(int, x))\n",
        "       my_matrix.append(x)\n",
        "\n",
        "    my_matrix = np.array(my_matrix)\n",
        "\n",
        "    return my_matrix\n",
        "\n",
        "get_unique_rows(X)\n"
      ],
      "metadata": {
        "colab": {
          "base_uri": "https://localhost:8080/"
        },
        "id": "GF__WW0O8szL",
        "outputId": "7002ae43-e09a-435b-abeb-de0a7501c16d"
      },
      "execution_count": 137,
      "outputs": [
        {
          "output_type": "execute_result",
          "data": {
            "text/plain": [
              "array([[5, 4, 5],\n",
              "       [4, 5, 4],\n",
              "       [4, 5, 5],\n",
              "       [5, 5, 4],\n",
              "       [4, 4, 4],\n",
              "       [4, 4, 5]])"
            ]
          },
          "metadata": {},
          "execution_count": 137
        }
      ]
    },
    {
      "cell_type": "code",
      "source": [],
      "metadata": {
        "id": "isRxiPkD50h9"
      },
      "execution_count": null,
      "outputs": []
    },
    {
      "cell_type": "code",
      "source": [
        "\n",
        ""
      ],
      "metadata": {
        "id": "MQu_5tIqZCzC"
      },
      "execution_count": null,
      "outputs": []
    }
  ]
}